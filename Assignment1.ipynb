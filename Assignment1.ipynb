{
  "nbformat": 4,
  "nbformat_minor": 0,
  "metadata": {
    "colab": {
      "provenance": [],
      "authorship_tag": "ABX9TyPV1uVGAXW18eWLwac52Zh9",
      "include_colab_link": true
    },
    "kernelspec": {
      "name": "python3",
      "display_name": "Python 3"
    },
    "language_info": {
      "name": "python"
    }
  },
  "cells": [
    {
      "cell_type": "markdown",
      "metadata": {
        "id": "view-in-github",
        "colab_type": "text"
      },
      "source": [
        "<a href=\"https://colab.research.google.com/github/arushi3838/Assignments_python/blob/main/Assignment1.ipynb\" target=\"_parent\"><img src=\"https://colab.research.google.com/assets/colab-badge.svg\" alt=\"Open In Colab\"/></a>"
      ]
    },
    {
      "cell_type": "markdown",
      "source": [
        "Q1. L is a list defined as L= [11, 12, 13, 14].\n",
        "\n",
        "(i) WAP to add 50 and 60 to L.\n",
        "\n",
        "(ii) WAP to remove 11 and 13 from L.\n",
        "\n",
        "(iii) WAP to sort L in ascending order.\n",
        "\n",
        "(iv) WAP to sort L in descending order.\n",
        "\n",
        "(v) WAP to search for 13 in L.\n",
        "\n",
        "(vi) WAP to count the number of elements present in L.\n",
        "\n",
        "(vii) WAP to sum all the elements in L.\n",
        "\n",
        "(viii) WAP to sum all ODD numbers in L.\n",
        "\n",
        "(ix) WAP to sum all EVEN numbers in L.\n",
        "\n",
        "(x) WAP to sum all PRIME numbers in L.\n",
        "\n",
        "(xi) WAP to clear all the elements in L.\n",
        "\n",
        "(xii) WAP to delete L."
      ],
      "metadata": {
        "id": "lPJUtlfw40fC"
      }
    },
    {
      "cell_type": "code",
      "source": [
        "\"(i)\"\n",
        "L= [11, 12, 13, 14]\n",
        "print(L)\n",
        "L.append(50)\n",
        "L.append(60)\n",
        "print(L)\n"
      ],
      "metadata": {
        "colab": {
          "base_uri": "https://localhost:8080/"
        },
        "id": "_HOxCL8Y6F99",
        "outputId": "dc6ec93c-515e-481d-d613-40d4cf4fddd5"
      },
      "execution_count": 9,
      "outputs": [
        {
          "output_type": "stream",
          "name": "stdout",
          "text": [
            "[11, 12, 13, 14]\n",
            "[11, 12, 13, 14, 50, 60]\n"
          ]
        }
      ]
    },
    {
      "cell_type": "code",
      "source": [
        "\"(ii)\"\n",
        "L= [11, 12, 13, 14]\n",
        "print(L)\n",
        "del L[0]\n",
        "del L[1]\n",
        "print(L)\n"
      ],
      "metadata": {
        "colab": {
          "base_uri": "https://localhost:8080/"
        },
        "id": "at17yV818Bya",
        "outputId": "9c667353-5ae0-4815-82f2-4b5df806331c"
      },
      "execution_count": 12,
      "outputs": [
        {
          "output_type": "stream",
          "name": "stdout",
          "text": [
            "[11, 12, 13, 14]\n",
            "[12, 14]\n"
          ]
        }
      ]
    },
    {
      "cell_type": "code",
      "source": [
        "\"(iii)\"\n",
        "L=[11, 12, 13, 14]\n",
        "L.sort()\n",
        "print(L)\n",
        "\"(iv)\"\n",
        "L.sort(reverse=True)\n",
        "print(L)\n"
      ],
      "metadata": {
        "colab": {
          "base_uri": "https://localhost:8080/"
        },
        "id": "05nJvBdr9wZa",
        "outputId": "ec412347-01d9-418f-9541-8c4fce519cd3"
      },
      "execution_count": 13,
      "outputs": [
        {
          "output_type": "stream",
          "name": "stdout",
          "text": [
            "[11, 12, 13, 14]\n",
            "[14, 13, 12, 11]\n"
          ]
        }
      ]
    },
    {
      "cell_type": "code",
      "source": [
        "\"(v)\"\n",
        "L=[11, 12, 13, 14]\n",
        "f=0\n",
        "for i in range(0,len(L)):\n",
        "  if L[i]==13:\n",
        "    print (\"13 found at position\",i)\n",
        "    f=1\n",
        "\n",
        "if (f==0):\n",
        "  print(\"13 not found\")\n"
      ],
      "metadata": {
        "colab": {
          "base_uri": "https://localhost:8080/"
        },
        "id": "1AaKHinf-wD6",
        "outputId": "90fc59d8-a9be-407e-fd8c-f71e86b89efd"
      },
      "execution_count": 1,
      "outputs": [
        {
          "output_type": "stream",
          "name": "stdout",
          "text": [
            "13 found at position 2\n"
          ]
        }
      ]
    },
    {
      "cell_type": "code",
      "source": [
        "\"vi\"\n",
        "L=[11,12,13,14]\n",
        "x=len(L)\n",
        "print(x)\n",
        "\"vii\"\n",
        "sum(L)"
      ],
      "metadata": {
        "colab": {
          "base_uri": "https://localhost:8080/"
        },
        "id": "o8dQaEvI-wLK",
        "outputId": "5f8a76ce-fd67-4681-df65-2cbf13f545ed"
      },
      "execution_count": 3,
      "outputs": [
        {
          "output_type": "stream",
          "name": "stdout",
          "text": [
            "4\n"
          ]
        },
        {
          "output_type": "execute_result",
          "data": {
            "text/plain": [
              "50"
            ]
          },
          "metadata": {},
          "execution_count": 3
        }
      ]
    },
    {
      "cell_type": "code",
      "source": [
        "\"viii, ix\"\n",
        "L=[11,12,13,14]\n",
        "sumo=0\n",
        "sume=0\n",
        "for i in range (0,len(L)):\n",
        "  if L[i]%2==0:\n",
        "    sume+=L[i];\n",
        "  else:\n",
        "    sumo+=L[i];\n",
        "print(\"The sum of odd numbers is\",sumo)\n",
        "print(\"the sum of even numbers is\",sume)\n",
        "\n",
        "\"x\"\n",
        "for i in range (0,len(L)):\n",
        "  f=0\n",
        "  for j in range(2,(len(L)//2)+1):\n",
        "    if (L[i]%j==0):\n",
        "      f=1\n",
        "      print(L[i] ,\"not prime\")\n",
        "    break\n",
        "  if(f==0):\n",
        "    print(L[i],\"is prime\")\n",
        "\n",
        "  \"xi\"\n",
        "i=0\n",
        "while i==0:\n",
        "  del L[i]\n",
        "  print(L)\n",
        "  if L==[]:\n",
        "    break\n",
        "##or clear function can be used as well\n",
        "L=[11,12,13,14]\n",
        "L.clear()\n",
        "print(L)\n",
        "del L\n",
        "print(L)\n"
      ],
      "metadata": {
        "colab": {
          "base_uri": "https://localhost:8080/",
          "height": 401
        },
        "id": "BnexXMMe9war",
        "outputId": "1411056e-206a-4962-9be7-05c5b536197d"
      },
      "execution_count": 32,
      "outputs": [
        {
          "output_type": "stream",
          "name": "stdout",
          "text": [
            "The sum of odd numbers is 24\n",
            "the sum of even numbers is 26\n",
            "11 is prime\n",
            "12 not prime\n",
            "13 is prime\n",
            "14 not prime\n",
            "[12, 13, 14]\n",
            "[13, 14]\n",
            "[14]\n",
            "[]\n",
            "[]\n"
          ]
        },
        {
          "output_type": "error",
          "ename": "NameError",
          "evalue": "ignored",
          "traceback": [
            "\u001b[0;31m---------------------------------------------------------------------------\u001b[0m",
            "\u001b[0;31mNameError\u001b[0m                                 Traceback (most recent call last)",
            "\u001b[0;32m<ipython-input-32-6e18a1a70a00>\u001b[0m in \u001b[0;36m<cell line: 36>\u001b[0;34m()\u001b[0m\n\u001b[1;32m     34\u001b[0m \u001b[0mprint\u001b[0m\u001b[0;34m(\u001b[0m\u001b[0mL\u001b[0m\u001b[0;34m)\u001b[0m\u001b[0;34m\u001b[0m\u001b[0;34m\u001b[0m\u001b[0m\n\u001b[1;32m     35\u001b[0m \u001b[0;32mdel\u001b[0m \u001b[0mL\u001b[0m\u001b[0;34m\u001b[0m\u001b[0;34m\u001b[0m\u001b[0m\n\u001b[0;32m---> 36\u001b[0;31m \u001b[0mprint\u001b[0m\u001b[0;34m(\u001b[0m\u001b[0mL\u001b[0m\u001b[0;34m)\u001b[0m\u001b[0;34m\u001b[0m\u001b[0;34m\u001b[0m\u001b[0m\n\u001b[0m",
            "\u001b[0;31mNameError\u001b[0m: name 'L' is not defined"
          ]
        }
      ]
    },
    {
      "cell_type": "markdown",
      "source": [
        "Q2. D is a dictionary defined as D= {1:5.6, 2:7.8, 3:6.6, 4:8.7, 5:7.7}.\n",
        "\n",
        "(i) WAP to add new entry in D; key=8 and value is 8.8\n",
        "\n",
        "(ii) WAP to remove key=2.\n",
        "\n",
        "(iii) WAP to check weather 6 key is present in D.\n",
        "\n",
        "(iv) WAP to count the number of elements present in D.\n",
        "\n",
        "(v) WAP to add all the values present D.\n",
        "\n",
        "(vi) WAP to update the value of 3 to 7.1.\n",
        "\n",
        "(vii) WAP to clear the dictionary."
      ],
      "metadata": {
        "id": "ZForkcVWrlyo"
      }
    },
    {
      "cell_type": "code",
      "source": [
        "D= {1:5.6, 2:7.8, 3:6.6, 4:8.7, 5:7.7}\n",
        "D[8]=8.8\n",
        "print (\"After Adding (8)    --> \", D)\n",
        "del D[2]\n",
        "print (\"After deleting (2)    --> \", D)\n",
        "print(\"Key 6 is present in D  -->\",6 in D)\n",
        "print(\"There are\", len(D), \"elements in D.\")\n",
        "print(\"There are\", len(D), \"elements in D.\")\n",
        "print(\"The sum is\", sum(D))\n",
        "D[3]=7.1\n",
        "print(\"The updated value of 3 is\", D[3])\n",
        "D.clear()\n",
        "print(D)"
      ],
      "metadata": {
        "colab": {
          "base_uri": "https://localhost:8080/"
        },
        "id": "E_ufYG1KlIqX",
        "outputId": "9ec78238-795b-4524-adbb-42b15ab77ebf"
      },
      "execution_count": 37,
      "outputs": [
        {
          "output_type": "stream",
          "name": "stdout",
          "text": [
            "After Adding (8)    -->  {1: 5.6, 2: 7.8, 3: 6.6, 4: 8.7, 5: 7.7, 8: 8.8}\n",
            "After deleting (2)    -->  {1: 5.6, 3: 6.6, 4: 8.7, 5: 7.7, 8: 8.8}\n",
            "Key 6 is present in D  --> False\n",
            "There are 5 elements in D.\n",
            "There are 5 elements in D.\n",
            "The sum is 21\n",
            "The updated value of 3 is 7.1\n",
            "{}\n"
          ]
        }
      ]
    },
    {
      "cell_type": "markdown",
      "source": [
        "Q3. S1 is a set defined as S1= [10, 20, 30, 40, 50, 60].\n",
        " S2 is a set defined as S2= [40, 50, 60, 70, 80, 90].\n",
        "\n",
        "(i) WAP to add 55 and 66 in Set S1.\n",
        "\n",
        "(ii) WAP to remove 10 and 30 from Set S1.\n",
        "\n",
        "(iii) WAP to check whether 40 is present in S1.\n",
        "\n",
        "(iv) WAP to find the union between S1 and S2.\n",
        "\n",
        "(v) WAP to find the intersection between S1 and S2.\n",
        "\n",
        "(vi) WAP to find the S1 - S2."
      ],
      "metadata": {
        "id": "Dio8xzP-vI4_"
      }
    },
    {
      "cell_type": "code",
      "source": [
        "S1= set([10, 20, 30, 40, 50, 60])\n",
        "S2= set([40, 50, 60, 70, 80, 90])\n",
        "print(\"sum of 55 and 66 in S1\",55+66)\n",
        "S1.remove(10)\n",
        "S1.remove(30)\n",
        "print(\"set after removing 10 and 30\", S1)\n",
        "print(\"Is 40 present in set S1 -->\",40 in S1)\n",
        "print(\"union between S1 and S2 -->\",S1.union(S2))\n",
        "print(\"intersection between S1 and S2 -->\",S1.intersection(S2))\n",
        "print(\"difference S1 and S2 -->\", S1-S2)"
      ],
      "metadata": {
        "colab": {
          "base_uri": "https://localhost:8080/"
        },
        "id": "Km1cV3oElIgK",
        "outputId": "2d439310-626d-44df-f3ab-50114d62e365"
      },
      "execution_count": 46,
      "outputs": [
        {
          "output_type": "stream",
          "name": "stdout",
          "text": [
            "sum of 55 and 66 in S1 121\n",
            "set after removing 10 and 30 {40, 50, 20, 60}\n",
            "Is 40 present in set S1 --> True\n",
            "union between S1 and S2 --> {70, 40, 80, 50, 20, 90, 60}\n",
            "intersection between S1 and S2 --> {40, 50, 60}\n",
            "difference S1 and S2 --> {20}\n"
          ]
        }
      ]
    },
    {
      "cell_type": "markdown",
      "source": [
        "Q4. Write the following program.\n",
        "\n",
        "(i) WAP to print 100 random strings whose length between 6 and 8.\n",
        "\n",
        "(ii) WAP to print all prime numbers between 600 and 800.\n",
        "\n",
        "(iii) WAP to print all numbers between 100 and 1000 that are divisible by 7 and 9"
      ],
      "metadata": {
        "id": "nnf3PcSxykzS"
      }
    },
    {
      "cell_type": "code",
      "source": [
        "\"i\"\n",
        "import random as r\n",
        "import string as s\n",
        "for i in range(100):\n",
        "  randomnum=r.randint(6,8)\n",
        "  stringnew=r.sample(s.ascii_letters, randomnum)\n",
        "  stringnew=\"\".join(stringnew)\n",
        "  print(stringnew)\n",
        "\n",
        "\"ii\"\n",
        "for i in range(600,801):\n",
        "  f=0\n",
        "  for j in range(2,(i//2)+1):\n",
        "    if(i%j==0):\n",
        "      f+=1\n",
        "  if (f==0):\n",
        "    print(i,\"is prime.\")\n",
        "\n",
        "\"iii\"\n",
        "for i in range(100,1001):\n",
        "  f=0\n",
        "  if(i%7==0 and i%9==0):\n",
        "    print(i,\"is divisible by 7 and 9.\")\n",
        "  \n",
        "      \n",
        "\n",
        "\n"
      ],
      "metadata": {
        "id": "3JXE3FJyyz8e"
      },
      "execution_count": null,
      "outputs": []
    },
    {
      "cell_type": "markdown",
      "source": [
        "Q5. WAP to create two lists of 10 random numbers between 10 and 30; Find\n",
        "\n",
        "(i) Common numbers in the two lists\n",
        "\n",
        "(ii) Unique numbers in both the list\n",
        "\n",
        "(iii) Minimum in both the list\n",
        "\n",
        "(iv) Maximum in both the list\n",
        "\n",
        "(v) Sum of both the lists"
      ],
      "metadata": {
        "id": "Uawlrz1x7gNk"
      }
    },
    {
      "cell_type": "code",
      "source": [
        "\"i\"\n",
        "import random\n",
        "L1=[]\n",
        "L2=[]\n",
        "for i in range (20):\n",
        "  randomnum=random.randint(10,30)\n",
        "  if(i<10):\n",
        "    L1.append(randomnum)\n",
        "  else:\n",
        "    L2.append(randomnum)\n",
        "print(L1)\n",
        "print(L2)\n",
        "\n",
        "\"ii\"\n",
        "for i in range(0,len(L1)-1):\n",
        "  f=0\n",
        "  for j in range(i+1,len(L1)):\n",
        "    if(L1[i]==L1[j]):\n",
        "      f=1\n",
        "  if(f==0):\n",
        "    print(L1[i],\"is unique in L1.\")\n",
        "\n",
        "  for j in range(i+1,len(L2)):\n",
        "    if(L2[i]==L2[j]):\n",
        "      f=1\n",
        "  if(f==0):\n",
        "    print(L2[i],\"is unique in L2.\")"
      ],
      "metadata": {
        "colab": {
          "base_uri": "https://localhost:8080/"
        },
        "id": "l4AM-4tz7fp_",
        "outputId": "7c605774-8e09-4e13-b4a7-17875e41b59c"
      },
      "execution_count": 25,
      "outputs": [
        {
          "output_type": "stream",
          "name": "stdout",
          "text": [
            "[14, 25, 18, 22, 16, 20, 23, 20, 14, 30]\n",
            "[24, 16, 19, 16, 26, 20, 13, 17, 24, 14]\n",
            "25 is unique in L1.\n",
            "18 is unique in L1.\n",
            "19 is unique in L2.\n",
            "22 is unique in L1.\n",
            "16 is unique in L2.\n",
            "16 is unique in L1.\n",
            "26 is unique in L2.\n",
            "23 is unique in L1.\n",
            "13 is unique in L2.\n",
            "20 is unique in L1.\n",
            "17 is unique in L2.\n",
            "14 is unique in L1.\n",
            "24 is unique in L2.\n"
          ]
        }
      ]
    }
  ]
}