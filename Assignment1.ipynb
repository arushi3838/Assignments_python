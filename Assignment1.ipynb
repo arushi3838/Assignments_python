{
  "nbformat": 4,
  "nbformat_minor": 0,
  "metadata": {
    "colab": {
      "provenance": [],
      "authorship_tag": "ABX9TyMgQUPlo6cKEKgcwf/5rOTk",
      "include_colab_link": true
    },
    "kernelspec": {
      "name": "python3",
      "display_name": "Python 3"
    },
    "language_info": {
      "name": "python"
    }
  },
  "cells": [
    {
      "cell_type": "markdown",
      "metadata": {
        "id": "view-in-github",
        "colab_type": "text"
      },
      "source": [
        "<a href=\"https://colab.research.google.com/github/arushi3838/Assignments_python/blob/main/Assignment1.ipynb\" target=\"_parent\"><img src=\"https://colab.research.google.com/assets/colab-badge.svg\" alt=\"Open In Colab\"/></a>"
      ]
    },
    {
      "cell_type": "markdown",
      "source": [
        "Q1. L is a list defined as L= [11, 12, 13, 14].\n",
        "\n",
        "(i) WAP to add 50 and 60 to L.\n",
        "\n",
        "(ii) WAP to remove 11 and 13 from L.\n",
        "\n",
        "(iii) WAP to sort L in ascending order.\n",
        "\n",
        "(iv) WAP to sort L in descending order.\n",
        "\n",
        "(v) WAP to search for 13 in L.\n",
        "\n",
        "(vi) WAP to count the number of elements present in L.\n",
        "\n",
        "(vii) WAP to sum all the elements in L.\n",
        "\n",
        "(viii) WAP to sum all ODD numbers in L.\n",
        "\n",
        "(ix) WAP to sum all EVEN numbers in L.\n",
        "\n",
        "(x) WAP to sum all PRIME numbers in L.\n",
        "\n",
        "(xi) WAP to clear all the elements in L.\n",
        "\n",
        "(xii) WAP to delete L."
      ],
      "metadata": {
        "id": "lPJUtlfw40fC"
      }
    },
    {
      "cell_type": "code",
      "source": [
        "\"(i)\"\n",
        "L= [11, 12, 13, 14]\n",
        "print(L)\n",
        "L.append(50)\n",
        "L.append(60)\n",
        "print(L)\n"
      ],
      "metadata": {
        "colab": {
          "base_uri": "https://localhost:8080/"
        },
        "id": "_HOxCL8Y6F99",
        "outputId": "dc6ec93c-515e-481d-d613-40d4cf4fddd5"
      },
      "execution_count": null,
      "outputs": [
        {
          "output_type": "stream",
          "name": "stdout",
          "text": [
            "[11, 12, 13, 14]\n",
            "[11, 12, 13, 14, 50, 60]\n"
          ]
        }
      ]
    },
    {
      "cell_type": "code",
      "source": [
        "\"(ii)\"\n",
        "L= [11, 12, 13, 14]\n",
        "print(L)\n",
        "del L[0]\n",
        "del L[1]\n",
        "print(L)\n"
      ],
      "metadata": {
        "colab": {
          "base_uri": "https://localhost:8080/"
        },
        "id": "at17yV818Bya",
        "outputId": "9c667353-5ae0-4815-82f2-4b5df806331c"
      },
      "execution_count": null,
      "outputs": [
        {
          "output_type": "stream",
          "name": "stdout",
          "text": [
            "[11, 12, 13, 14]\n",
            "[12, 14]\n"
          ]
        }
      ]
    },
    {
      "cell_type": "code",
      "source": [
        "\"(iii)\"\n",
        "L=[11, 12, 13, 14]\n",
        "L.sort()\n",
        "print(L)\n",
        "\"(iv)\"\n",
        "L.sort(reverse=True)\n",
        "print(L)\n"
      ],
      "metadata": {
        "colab": {
          "base_uri": "https://localhost:8080/"
        },
        "id": "05nJvBdr9wZa",
        "outputId": "ec412347-01d9-418f-9541-8c4fce519cd3"
      },
      "execution_count": null,
      "outputs": [
        {
          "output_type": "stream",
          "name": "stdout",
          "text": [
            "[11, 12, 13, 14]\n",
            "[14, 13, 12, 11]\n"
          ]
        }
      ]
    },
    {
      "cell_type": "code",
      "source": [
        "\"(v)\"\n",
        "L=[11, 12, 13, 14]\n",
        "f=0\n",
        "for i in range(0,len(L)):\n",
        "  if L[i]==13:\n",
        "    print (\"13 found at position\",i)\n",
        "    f=1\n",
        "\n",
        "if (f==0):\n",
        "  print(\"13 not found\")\n"
      ],
      "metadata": {
        "colab": {
          "base_uri": "https://localhost:8080/"
        },
        "id": "1AaKHinf-wD6",
        "outputId": "90fc59d8-a9be-407e-fd8c-f71e86b89efd"
      },
      "execution_count": null,
      "outputs": [
        {
          "output_type": "stream",
          "name": "stdout",
          "text": [
            "13 found at position 2\n"
          ]
        }
      ]
    },
    {
      "cell_type": "code",
      "source": [
        "\"vi\"\n",
        "L=[11,12,13,14]\n",
        "x=len(L)\n",
        "print(x)\n",
        "\"vii\"\n",
        "sum(L)"
      ],
      "metadata": {
        "colab": {
          "base_uri": "https://localhost:8080/"
        },
        "id": "o8dQaEvI-wLK",
        "outputId": "5f8a76ce-fd67-4681-df65-2cbf13f545ed"
      },
      "execution_count": null,
      "outputs": [
        {
          "output_type": "stream",
          "name": "stdout",
          "text": [
            "4\n"
          ]
        },
        {
          "output_type": "execute_result",
          "data": {
            "text/plain": [
              "50"
            ]
          },
          "metadata": {},
          "execution_count": 3
        }
      ]
    },
    {
      "cell_type": "code",
      "source": [
        "\"viii, ix\"\n",
        "L=[11,12,13,14]\n",
        "sumo=0\n",
        "sume=0\n",
        "for i in range (0,len(L)):\n",
        "  if L[i]%2==0:\n",
        "    sume+=L[i];\n",
        "  else:\n",
        "    sumo+=L[i];\n",
        "print(\"The sum of odd numbers is\",sumo)\n",
        "print(\"the sum of even numbers is\",sume)\n",
        "\n",
        "\"x\"\n",
        "for i in range (0,len(L)):\n",
        "  f=0\n",
        "  for j in range(2,(len(L)//2)+1):\n",
        "    if (L[i]%j==0):\n",
        "      f=1\n",
        "      print(L[i] ,\"not prime\")\n",
        "    break\n",
        "  if(f==0):\n",
        "    print(L[i],\"is prime\")\n",
        "\n",
        "  \"xi\"\n",
        "i=0\n",
        "while i==0:\n",
        "  del L[i]\n",
        "  print(L)\n",
        "  if L==[]:\n",
        "    break\n",
        "##or clear function can be used as well\n",
        "L=[11,12,13,14]\n",
        "L.clear()\n",
        "print(L)\n",
        "del L\n",
        "\n"
      ],
      "metadata": {
        "colab": {
          "base_uri": "https://localhost:8080/"
        },
        "id": "BnexXMMe9war",
        "outputId": "6113f9e4-2b97-4a30-81b1-41f1d256091c"
      },
      "execution_count": null,
      "outputs": [
        {
          "output_type": "stream",
          "name": "stdout",
          "text": [
            "The sum of odd numbers is 24\n",
            "the sum of even numbers is 26\n",
            "11 is prime\n",
            "12 not prime\n",
            "13 is prime\n",
            "14 not prime\n",
            "[12, 13, 14]\n",
            "[13, 14]\n",
            "[14]\n",
            "[]\n",
            "[]\n"
          ]
        }
      ]
    },
    {
      "cell_type": "markdown",
      "source": [
        "Q2. D is a dictionary defined as D= {1:5.6, 2:7.8, 3:6.6, 4:8.7, 5:7.7}.\n",
        "\n",
        "(i) WAP to add new entry in D; key=8 and value is 8.8\n",
        "\n",
        "(ii) WAP to remove key=2.\n",
        "\n",
        "(iii) WAP to check weather 6 key is present in D.\n",
        "\n",
        "(iv) WAP to count the number of elements present in D.\n",
        "\n",
        "(v) WAP to add all the values present D.\n",
        "\n",
        "(vi) WAP to update the value of 3 to 7.1.\n",
        "\n",
        "(vii) WAP to clear the dictionary."
      ],
      "metadata": {
        "id": "ZForkcVWrlyo"
      }
    },
    {
      "cell_type": "code",
      "source": [
        "D= {1:5.6, 2:7.8, 3:6.6, 4:8.7, 5:7.7}\n",
        "D[8]=8.8\n",
        "print (\"After Adding (8)    --> \", D)\n",
        "del D[2]\n",
        "print (\"After deleting (2)    --> \", D)\n",
        "print(\"Key 6 is present in D  -->\",6 in D)\n",
        "print(\"There are\", len(D), \"elements in D.\")\n",
        "print(\"There are\", len(D), \"elements in D.\")\n",
        "print(\"The sum is\", sum(D))\n",
        "D[3]=7.1\n",
        "print(\"The updated value of 3 is\", D[3])\n",
        "D.clear()\n",
        "print(D)"
      ],
      "metadata": {
        "colab": {
          "base_uri": "https://localhost:8080/"
        },
        "id": "E_ufYG1KlIqX",
        "outputId": "9ec78238-795b-4524-adbb-42b15ab77ebf"
      },
      "execution_count": null,
      "outputs": [
        {
          "output_type": "stream",
          "name": "stdout",
          "text": [
            "After Adding (8)    -->  {1: 5.6, 2: 7.8, 3: 6.6, 4: 8.7, 5: 7.7, 8: 8.8}\n",
            "After deleting (2)    -->  {1: 5.6, 3: 6.6, 4: 8.7, 5: 7.7, 8: 8.8}\n",
            "Key 6 is present in D  --> False\n",
            "There are 5 elements in D.\n",
            "There are 5 elements in D.\n",
            "The sum is 21\n",
            "The updated value of 3 is 7.1\n",
            "{}\n"
          ]
        }
      ]
    },
    {
      "cell_type": "markdown",
      "source": [
        "Q3. S1 is a set defined as S1= [10, 20, 30, 40, 50, 60].\n",
        " S2 is a set defined as S2= [40, 50, 60, 70, 80, 90].\n",
        "\n",
        "(i) WAP to add 55 and 66 in Set S1.\n",
        "\n",
        "(ii) WAP to remove 10 and 30 from Set S1.\n",
        "\n",
        "(iii) WAP to check whether 40 is present in S1.\n",
        "\n",
        "(iv) WAP to find the union between S1 and S2.\n",
        "\n",
        "(v) WAP to find the intersection between S1 and S2.\n",
        "\n",
        "(vi) WAP to find the S1 - S2."
      ],
      "metadata": {
        "id": "Dio8xzP-vI4_"
      }
    },
    {
      "cell_type": "code",
      "source": [
        "S1= set([10, 20, 30, 40, 50, 60])\n",
        "S2= set([40, 50, 60, 70, 80, 90])\n",
        "print(\"sum of 55 and 66 in S1\",55+66)\n",
        "S1.remove(10)\n",
        "S1.remove(30)\n",
        "print(\"set after removing 10 and 30\", S1)\n",
        "print(\"Is 40 present in set S1 -->\",40 in S1)\n",
        "print(\"union between S1 and S2 -->\",S1.union(S2))\n",
        "print(\"intersection between S1 and S2 -->\",S1.intersection(S2))\n",
        "print(\"difference S1 and S2 -->\", S1-S2)"
      ],
      "metadata": {
        "colab": {
          "base_uri": "https://localhost:8080/"
        },
        "id": "Km1cV3oElIgK",
        "outputId": "2d439310-626d-44df-f3ab-50114d62e365"
      },
      "execution_count": null,
      "outputs": [
        {
          "output_type": "stream",
          "name": "stdout",
          "text": [
            "sum of 55 and 66 in S1 121\n",
            "set after removing 10 and 30 {40, 50, 20, 60}\n",
            "Is 40 present in set S1 --> True\n",
            "union between S1 and S2 --> {70, 40, 80, 50, 20, 90, 60}\n",
            "intersection between S1 and S2 --> {40, 50, 60}\n",
            "difference S1 and S2 --> {20}\n"
          ]
        }
      ]
    },
    {
      "cell_type": "markdown",
      "source": [
        "Q4. Write the following program.\n",
        "\n",
        "(i) WAP to print 100 random strings whose length between 6 and 8.\n",
        "\n",
        "(ii) WAP to print all prime numbers between 600 and 800.\n",
        "\n",
        "(iii) WAP to print all numbers between 100 and 1000 that are divisible by 7 and 9"
      ],
      "metadata": {
        "id": "nnf3PcSxykzS"
      }
    },
    {
      "cell_type": "code",
      "source": [
        "\"i\"\n",
        "import random as r\n",
        "import string as s\n",
        "for i in range(100):\n",
        "  randomnum=r.randint(6,8)\n",
        "  stringnew=r.sample(s.ascii_letters, randomnum)\n",
        "  stringnew=\"\".join(stringnew)\n",
        "  print(stringnew)\n",
        "\n",
        "\"ii\"\n",
        "for i in range(600,801):\n",
        "  f=0\n",
        "  for j in range(2,(i//2)+1):\n",
        "    if(i%j==0):\n",
        "      f+=1\n",
        "  if (f==0):\n",
        "    print(i,\"is prime.\")\n",
        "\n",
        "\"iii\"\n",
        "for i in range(100,1001):\n",
        "  f=0\n",
        "  if(i%7==0 and i%9==0):\n",
        "    print(i,\"is divisible by 7 and 9.\")\n",
        "  \n",
        "      \n",
        "\n",
        "\n"
      ],
      "metadata": {
        "id": "3JXE3FJyyz8e",
        "colab": {
          "base_uri": "https://localhost:8080/"
        },
        "outputId": "f923e3f3-d365-4857-b375-0b0af1507479"
      },
      "execution_count": null,
      "outputs": [
        {
          "output_type": "stream",
          "name": "stdout",
          "text": [
            "gIFDXPd\n",
            "qiaWbc\n",
            "plFnkz\n",
            "DSuTXg\n",
            "uiaCbgXx\n",
            "XVzRby\n",
            "iUCzcMG\n",
            "eAFChmv\n",
            "aCgAfuV\n",
            "NaEtyLU\n",
            "pJzVHo\n",
            "jgRaEXQ\n",
            "dhbBjmA\n",
            "HmlFcXR\n",
            "JZKBMuU\n",
            "asMlRoz\n",
            "IQeBdEnH\n",
            "PwSnhG\n",
            "YKjkCfZ\n",
            "LPZeCfs\n",
            "yqNOQv\n",
            "IoMiJhT\n",
            "ofBCMmUb\n",
            "NvLWgnoy\n",
            "ICdjoBuV\n",
            "QTLvxX\n",
            "bqOMZUi\n",
            "dLfAiM\n",
            "cjgxVC\n",
            "nLcOWlH\n",
            "sawcHk\n",
            "XtnMyl\n",
            "XEfVOLw\n",
            "tzcnZsF\n",
            "DQxBKe\n",
            "ntrDyVGh\n",
            "HqQXTex\n",
            "ILUzYutB\n",
            "RuTwAV\n",
            "UfEmknC\n",
            "aoynKdO\n",
            "vwtmbOp\n",
            "fGrZcSo\n",
            "UQevbkaO\n",
            "NRqLZwAX\n",
            "QioYGcEz\n",
            "wPDLazJ\n",
            "LJoPOeqx\n",
            "hLjmwXiR\n",
            "szcPVqD\n",
            "TVZqyhY\n",
            "OPErGojC\n",
            "ZnoUGl\n",
            "YypIuPwD\n",
            "EtIcAXp\n",
            "vhrpsYyf\n",
            "PBqXnp\n",
            "dfTeobXt\n",
            "qeNUBC\n",
            "sIXKFiqp\n",
            "wyEMOsU\n",
            "ipIjPy\n",
            "rqdLTwk\n",
            "TQzbopj\n",
            "FCWhvMQ\n",
            "KvWOPdxD\n",
            "kJEMZjo\n",
            "DKEsYc\n",
            "inkCKZMh\n",
            "LkRxeBo\n",
            "AzJGOKge\n",
            "pQLZnv\n",
            "OQmRYU\n",
            "vLNcZOaV\n",
            "gXbcqp\n",
            "HtuYgna\n",
            "gdrIUzpP\n",
            "yHnhcBq\n",
            "mpExBdL\n",
            "wXcAPKrs\n",
            "zygDvirm\n",
            "JkNdpHOm\n",
            "XelTGs\n",
            "JlywSVHX\n",
            "XzKvodGh\n",
            "IPasOCou\n",
            "DOPcNwz\n",
            "BMUsQjZ\n",
            "mALTtK\n",
            "gwYEoZu\n",
            "fOWGbXc\n",
            "QMljKER\n",
            "LoFxDekm\n",
            "JueFbD\n",
            "GWgMKIC\n",
            "tMeNZCSK\n",
            "RwNtlz\n",
            "jKxnGBE\n",
            "IWvjZbg\n",
            "bjgSWLsd\n",
            "601 is prime.\n",
            "607 is prime.\n",
            "613 is prime.\n",
            "617 is prime.\n",
            "619 is prime.\n",
            "631 is prime.\n",
            "641 is prime.\n",
            "643 is prime.\n",
            "647 is prime.\n",
            "653 is prime.\n",
            "659 is prime.\n",
            "661 is prime.\n",
            "673 is prime.\n",
            "677 is prime.\n",
            "683 is prime.\n",
            "691 is prime.\n",
            "701 is prime.\n",
            "709 is prime.\n",
            "719 is prime.\n",
            "727 is prime.\n",
            "733 is prime.\n",
            "739 is prime.\n",
            "743 is prime.\n",
            "751 is prime.\n",
            "757 is prime.\n",
            "761 is prime.\n",
            "769 is prime.\n",
            "773 is prime.\n",
            "787 is prime.\n",
            "797 is prime.\n",
            "126 is divisible by 7 and 9.\n",
            "189 is divisible by 7 and 9.\n",
            "252 is divisible by 7 and 9.\n",
            "315 is divisible by 7 and 9.\n",
            "378 is divisible by 7 and 9.\n",
            "441 is divisible by 7 and 9.\n",
            "504 is divisible by 7 and 9.\n",
            "567 is divisible by 7 and 9.\n",
            "630 is divisible by 7 and 9.\n",
            "693 is divisible by 7 and 9.\n",
            "756 is divisible by 7 and 9.\n",
            "819 is divisible by 7 and 9.\n",
            "882 is divisible by 7 and 9.\n",
            "945 is divisible by 7 and 9.\n"
          ]
        }
      ]
    },
    {
      "cell_type": "markdown",
      "source": [
        "Q5. WAP to create two lists of 10 random numbers between 10 and 30; Find\n",
        "\n",
        "(i) Common numbers in the two lists\n",
        "\n",
        "(ii) Unique numbers in both the list\n",
        "\n",
        "(iii) Minimum in both the list\n",
        "\n",
        "(iv) Maximum in both the list\n",
        "\n",
        "(v) Sum of both the lists"
      ],
      "metadata": {
        "id": "Uawlrz1x7gNk"
      }
    },
    {
      "cell_type": "code",
      "source": [
        "\n",
        "import random\n",
        "L1=L3=[]\n",
        "L2=L4=[]\n",
        "for i in range (20):\n",
        "  randomnum=random.randint(10,30)\n",
        "  if(i<10):\n",
        "    L1.append(randomnum)\n",
        "  else:\n",
        "    L2.append(randomnum)\n",
        "print(L1)\n",
        "print(L2)\n",
        "\n",
        "L1=set(L1)\n",
        "L2=set(L2)\n",
        "\"i\"Z\n",
        "print(\"common elements in both the lists\",L1.intersection(L2))\n",
        "\"ii\"\n",
        "print(\"unique elements in both the lists\",L1.union(L2)-L1.intersection(L2))\n",
        "\"iii,iv,v\"\n",
        "L1=L3\n",
        "L2=L4\n",
        "min_num=min(L1+L2)\n",
        "max_num=max(L1+L2)\n",
        "suml=sum(L1+L2)\n",
        "print(\"Minimum in both the list is\",min_num)\n",
        "print(\"Maximum in both the list is\",max_num)\n",
        "print(\"Sum of both the list is\",suml)"
      ],
      "metadata": {
        "colab": {
          "base_uri": "https://localhost:8080/"
        },
        "id": "l4AM-4tz7fp_",
        "outputId": "f4832c1b-d550-4cb5-bfba-d7cb7ca17282"
      },
      "execution_count": null,
      "outputs": [
        {
          "output_type": "stream",
          "name": "stdout",
          "text": [
            "[24, 13, 12, 23, 13, 21, 12, 24, 22, 17]\n",
            "[30, 11, 27, 12, 11, 16, 24, 28, 21, 17]\n",
            "common elements in both the lists {24, 17, 12, 21}\n",
            "unique elements in both the lists {11, 13, 16, 22, 23, 27, 28, 30}\n",
            "Minimum in both the list is 11\n",
            "Maximum in both the list is 30\n",
            "Sum of both the list is 378\n"
          ]
        }
      ]
    },
    {
      "cell_type": "markdown",
      "source": [
        "Q6. WAP to create a list of 100 random numbers between 100 and 900. Count and print the:\n",
        "\n",
        "(i) All odd numbers\n",
        "\n",
        "(ii) All even numbers\n",
        "\n",
        "(iii) All prime numbers"
      ],
      "metadata": {
        "id": "6Skf13pDQBek"
      }
    },
    {
      "cell_type": "code",
      "source": [
        "import random\n",
        "L1=[]\n",
        "for i in range (100):\n",
        "  randomnum=random.randint(100,900)\n",
        "  L1.append(randomnum)\n",
        "print(L1)\n",
        "\n",
        "\"i\"\n",
        "f=0\n",
        "L2=[]\n",
        "L3=[]\n",
        "for i in range (100):\n",
        "  if L1[i]%2!=0:\n",
        "    f+=1\n",
        "    L2.append(L1[i])\n",
        "  else:\n",
        "    L3.append(L1[i])\n",
        "    \n",
        "print(\"The odd numbers of the list are\",L2)\n",
        "print(\"The even numbers of thr list are\",L3)\n"
      ],
      "metadata": {
        "colab": {
          "base_uri": "https://localhost:8080/"
        },
        "id": "C7QA07hUQEkY",
        "outputId": "db125629-28aa-41a9-eee9-d3b69db552a8"
      },
      "execution_count": null,
      "outputs": [
        {
          "output_type": "stream",
          "name": "stdout",
          "text": [
            "[402, 664, 806, 790, 777, 815, 579, 563, 593, 891, 868, 583, 869, 468, 431, 122, 533, 336, 736, 634, 159, 845, 761, 898, 443, 399, 624, 889, 407, 900, 256, 366, 115, 437, 309, 255, 106, 684, 178, 564, 514, 842, 627, 312, 743, 868, 243, 344, 214, 871, 860, 535, 799, 418, 316, 202, 649, 384, 301, 813, 711, 209, 568, 151, 503, 214, 498, 293, 857, 403, 433, 318, 445, 154, 164, 455, 758, 805, 326, 788, 420, 897, 165, 565, 786, 146, 326, 509, 291, 109, 384, 586, 471, 675, 389, 315, 119, 659, 319, 412]\n",
            "The odd numbers of the list are [777, 815, 579, 563, 593, 891, 583, 869, 431, 533, 159, 845, 761, 443, 399, 889, 407, 115, 437, 309, 255, 627, 743, 243, 871, 535, 799, 649, 301, 813, 711, 209, 151, 503, 293, 857, 403, 433, 445, 455, 805, 897, 165, 565, 509, 291, 109, 471, 675, 389, 315, 119, 659, 319]\n",
            "The even numbers of thr list are [402, 664, 806, 790, 868, 468, 122, 336, 736, 634, 898, 624, 900, 256, 366, 106, 684, 178, 564, 514, 842, 312, 868, 344, 214, 860, 418, 316, 202, 384, 568, 214, 498, 318, 154, 164, 758, 326, 788, 420, 786, 146, 326, 384, 586, 412]\n"
          ]
        }
      ]
    },
    {
      "cell_type": "markdown",
      "source": [
        "Q7. D is a dictionary defined as D={1:\"One\",2:\"Two\",3:\"Three\",4:\"Four\", 5:\"Five\"}.\n",
        "\n",
        " WAP to read all the keys and values from dictionary and write to the file in the given below format.\n",
        "\n",
        "Key1, Value1\n",
        "\n",
        "Key2, Value2\n",
        "\n",
        "Key3, Value3"
      ],
      "metadata": {
        "id": "n-ak6dClTU8A"
      }
    },
    {
      "cell_type": "code",
      "source": [
        "fp=open('assignment1.txt','w')\n",
        "D={1:\"One\",2:\"Two\",3:\"Three\",4:\"Four\", 5:\"Five\"}\n",
        "\n",
        "for i in range (0,len(D)):\n",
        "  key=i+1\n",
        "  value=D[i+1]\n",
        "  fp.write(str(key) + \",\"+str(value )+\"\\n\")\n",
        "fp.close()\n",
        "print (\"Writing done !! \\nOpen assignment1.txt to view the content\")"
      ],
      "metadata": {
        "id": "_dhmZ13iTewS",
        "colab": {
          "base_uri": "https://localhost:8080/"
        },
        "outputId": "ad2ab5a9-2573-4da2-fa65-c91e315d4490"
      },
      "execution_count": null,
      "outputs": [
        {
          "output_type": "stream",
          "name": "stdout",
          "text": [
            "Writing done !! \n",
            "Open assignment1.txt to view the content\n"
          ]
        }
      ]
    },
    {
      "cell_type": "markdown",
      "source": [
        "Q8. L is a list defined as L={\"One\",\"Two\",\"Three\",\"Four\",\"Five\"}.\n",
        "\n",
        " WAP to count the length of reach element from a list and write to the file in the given below format:\n",
        "\n",
        "One, 3\n",
        "\n",
        "Two, 3\n",
        "\n",
        "Four, 4"
      ],
      "metadata": {
        "id": "lTMwhV3AXXzL"
      }
    },
    {
      "cell_type": "code",
      "source": [
        "fp=open('a.txt','w')\n",
        "L=[\"One\",\"Two\",\"Three\",\"Four\",\"Five\"]\n",
        "for i in range(0,len(L)):\n",
        "  value=L[i]\n",
        "  s=str(L[i])\n",
        "  l=len(s)\n",
        "  fp.write(str(value)+\",\"+str(l)+\"\\n\")\n",
        "fp.close()\n",
        "print (\"Writing done !! \\nOpen a.txt to view the content\")\n",
        "\n"
      ],
      "metadata": {
        "id": "atmKPDAHXoYr",
        "colab": {
          "base_uri": "https://localhost:8080/"
        },
        "outputId": "421d0495-e6b2-4e50-c372-105aa7177e63"
      },
      "execution_count": null,
      "outputs": [
        {
          "output_type": "stream",
          "name": "stdout",
          "text": [
            "Writing done !! \n",
            "Open a.txt to view the content\n"
          ]
        }
      ]
    },
    {
      "cell_type": "markdown",
      "source": [
        "Q9. Write to the file 100 random strings whose length between 10 and 15."
      ],
      "metadata": {
        "id": "oz1cqOO6XpA8"
      }
    },
    {
      "cell_type": "code",
      "source": [
        "import random \n",
        "import string as s\n",
        "fp=open('b.txt','w')\n",
        "for i in range(100):\n",
        "  r=random.randint(10,15)\n",
        "  stringnew=random.sample(s.ascii_letters,r)\n",
        "  stringnew1=\"\".join(stringnew)\n",
        "  fp.write(str(stringnew1)+\"\\n\")\n",
        "print (\"Writing done !! \\nOpen b.txt to view the content\")\n"
      ],
      "metadata": {
        "id": "SxgEQQdlXsTg",
        "colab": {
          "base_uri": "https://localhost:8080/"
        },
        "outputId": "d481a9a6-918e-4792-dc2f-c2d7fc5ce16f"
      },
      "execution_count": null,
      "outputs": [
        {
          "output_type": "stream",
          "name": "stdout",
          "text": [
            "Writing done !! \n",
            "Open b.txt to view the content\n"
          ]
        }
      ]
    },
    {
      "cell_type": "markdown",
      "source": [
        "Q10. Write to the file all prime numbers between 600 and 800."
      ],
      "metadata": {
        "id": "oqqOODoeXskx"
      }
    },
    {
      "cell_type": "code",
      "source": [
        "\n",
        "fp=open('c.txt','w')\n",
        "fp.write(\"Prime Numbers Between 600 and 800 are :-\")\n",
        "for i in range(600,801):\n",
        "  f=0\n",
        "  for j in range(2,(i//2)+1):\n",
        "    if(i%j==0):\n",
        "      f+=1\n",
        "  if (f==0):\n",
        "    x=i\n",
        "    fp.write(str(x)+\"\\n\")\n",
        "print (\"Writing done !! \\nOpen c.txt to view the content\")\n",
        "   "
      ],
      "metadata": {
        "id": "ngJt1O5AXz0P",
        "colab": {
          "base_uri": "https://localhost:8080/"
        },
        "outputId": "31a0de41-1378-4c14-a429-78d885a20043"
      },
      "execution_count": null,
      "outputs": [
        {
          "output_type": "stream",
          "name": "stdout",
          "text": [
            "Writing done !! \n",
            "Open c.txt to view the content\n"
          ]
        }
      ]
    },
    {
      "cell_type": "markdown",
      "source": [
        "Q11. WAP to calculate the time taken by a program."
      ],
      "metadata": {
        "id": "nw8K5eoHX0Kg"
      }
    },
    {
      "cell_type": "code",
      "source": [
        "import datetime\n",
        "start=datetime.datetime.now()\n",
        "#program to be executed\n",
        "a=1\n",
        "b=2\n",
        "c=a+b\n",
        "print(c)\n",
        "#program completed\n",
        "end=datetime.datetime.now()\n",
        "x=end-start\n",
        "print(\"The time taken for the Program to be executed is\",x.microseconds)\n",
        "    "
      ],
      "metadata": {
        "id": "7m5tbDwjX4Ur",
        "colab": {
          "base_uri": "https://localhost:8080/"
        },
        "outputId": "4f6a93b3-4b65-4c4a-9bfe-b948f06e8c09"
      },
      "execution_count": null,
      "outputs": [
        {
          "output_type": "stream",
          "name": "stdout",
          "text": [
            "3\n",
            "The time taken for the Program to be executed is 225\n"
          ]
        }
      ]
    },
    {
      "cell_type": "markdown",
      "source": [
        "Q12. WAP to sort following number of elements in a list, calculate time taken and plot the graph.\n",
        "\n",
        "Number of elements in list Time Taken\n",
        "\n",
        "5k  T1\n",
        "\n",
        "10k T2\n",
        "\n",
        "20k T4\n",
        "\n",
        "25k T5\n",
        "\n",
        "15k T3"
      ],
      "metadata": {
        "id": "eEki9-AGX4p5"
      }
    },
    {
      "cell_type": "code",
      "source": [
        "import datetime\n",
        "import matplotlib.pyplot as plt\n",
        "import numpy as np\n",
        "import random\n",
        "L1=[5,10,15,20,25]\n",
        "L3=[3,2,4,2,1]\n",
        "y=[]\n",
        "for i in range(len(L1)):\n",
        "  tstart=datetime.datetime.now()\n",
        "  L2=[]\n",
        "  for j in range(L1[i]*1000):\n",
        "    r=random.randint(0,1000)\n",
        "    L2.append(r)\n",
        "  L2.sort()\n",
        "  tend=datetime.datetime.now()\n",
        "  #execution time\n",
        "  e=tend-tstart\n",
        "  print(\"The time taken for excution is\",e.microseconds)\n",
        "  y.append(e.microseconds)\n",
        "X=(L1)\n",
        "print(X)\n",
        "Y=y\n",
        "print(Y)\n",
        "plt.plot(X,Y,'o',color=\"blue\")\n",
        "plt.plot(X,Y)\n",
        "plt.xlabel('Number of Elements')\n",
        "plt.ylabel('Time of Execution in Microseconds')\n",
        "plt.title('Graph Plotting in Python')\n",
        "plt.show()"
      ],
      "metadata": {
        "id": "czKvVjz0YJsS",
        "colab": {
          "base_uri": "https://localhost:8080/",
          "height": 597
        },
        "outputId": "26bf3158-d131-480d-e88f-d6df89bb7b0f"
      },
      "execution_count": 106,
      "outputs": [
        {
          "output_type": "stream",
          "name": "stdout",
          "text": [
            "The time taken for excution is 8617\n",
            "The time taken for excution is 9478\n",
            "The time taken for excution is 14072\n",
            "The time taken for excution is 20989\n",
            "The time taken for excution is 25835\n",
            "[5, 10, 15, 20, 25]\n",
            "[8617, 9478, 14072, 20989, 25835]\n"
          ]
        },
        {
          "output_type": "display_data",
          "data": {
            "text/plain": [
              "<Figure size 640x480 with 1 Axes>"
            ],
            "image/png": "[encoded data removed]"
          },
          "metadata": {}
        }
      ]
    },
    {
      "cell_type": "markdown",
      "source": [
        "Q13. WAP to create a dictionary of student marks in five subjects and you have to find the student having maximum and minimum average marks."
      ],
      "metadata": {
        "id": "bLp5UyObYKBS"
      }
    },
    {
      "cell_type": "code",
      "source": [
        "a=int(input(\"Enter the number of students you want to eneter data for \"))\n",
        "b=int(input(\"Enter the number of subjects of the students \"))\n",
        "d={}\n",
        "Lkeys=[]\n",
        "Lvalues=[]\n",
        "Lmax=[]\n",
        "Lmin=[]\n",
        "for l in range(b):\n",
        "  key=input(\"Enter subject:-\")\n",
        "  Lkeys.append(key)\n",
        "for i in range(a):\n",
        "  for j in range(b):\n",
        "    value=int(input(\"Enter marks for \"+ Lkeys[j]))\n",
        "    Lvalues.append(value)\n",
        "    d[Lkeys[j]]=Lvalues[j]\n",
        "  avg=sum(Lvalues)\n",
        "  Lmax.append(round(avg//b))\n",
        "  Lmin.append(round(avg//b))\n",
        "  print(d)\n",
        "  Lvalues=[]\n",
        "print(\"Maximum Average is of student \",Lmax.index(max(Lmax))+1,\"with average as \",max(Lmax),\"\\n\")\n",
        "print(\"Minimum Average is of student \",Lmin.index(min(Lmin))+1,\"with average as \",min(Lmin),\"\\n\")"
      ],
      "metadata": {
        "id": "XPaQ8069YUjV",
        "colab": {
          "base_uri": "https://localhost:8080/"
        },
        "outputId": "d8eba270-5fe7-4952-a211-1d40f868010c"
      },
      "execution_count": null,
      "outputs": [
        {
          "output_type": "stream",
          "name": "stdout",
          "text": [
            "Enter the number of students you want to eneter data for 3\n",
            "Enter the number of subjects of the students 2\n",
            "Enter subject:-English\n",
            "Enter subject:-Maths\n",
            "Enter marks for English23\n",
            "Enter marks for Maths67\n",
            "{'English': 23, 'Maths': 67}\n",
            "Enter marks for English35\n",
            "Enter marks for Maths90\n",
            "{'English': 35, 'Maths': 90}\n",
            "Enter marks for English12\n",
            "Enter marks for Maths98\n",
            "{'English': 12, 'Maths': 98}\n",
            "Maximum Average is of student  2 with average as  62 \n",
            "\n",
            "Minimum Average is of student  1 with average as  45 \n",
            "\n"
          ]
        }
      ]
    }
  ]
}